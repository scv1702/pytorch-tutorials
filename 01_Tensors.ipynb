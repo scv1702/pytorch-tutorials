{
  "nbformat": 4,
  "nbformat_minor": 0,
  "metadata": {
    "colab": {
      "name": "01_Tensors.ipynb",
      "provenance": []
    },
    "kernelspec": {
      "name": "python3",
      "display_name": "Python 3"
    },
    "language_info": {
      "name": "python"
    },
    "accelerator": "GPU"
  },
  "cells": [
    {
      "cell_type": "code",
      "execution_count": 2,
      "metadata": {
        "id": "0HnKa_B2_Tq7"
      },
      "outputs": [],
      "source": [
        "import torch\n",
        "import numpy as np"
      ]
    },
    {
      "cell_type": "markdown",
      "source": [
        "##Initializing a Tensor"
      ],
      "metadata": {
        "id": "UtpFy8ky_1sb"
      }
    },
    {
      "cell_type": "code",
      "source": [
        "# Directly from data\n",
        "data = [[1, 2], [3, 4]]\n",
        "x_data = torch.tensor(data)"
      ],
      "metadata": {
        "id": "8-MtWVsy_Z57"
      },
      "execution_count": 3,
      "outputs": []
    },
    {
      "cell_type": "code",
      "source": [
        "# From a Numpy array\n",
        "np_array = np.array(data)\n",
        "x_np = torch.from_numpy(np_array)"
      ],
      "metadata": {
        "id": "pHOs2C5p_z13"
      },
      "execution_count": null,
      "outputs": []
    },
    {
      "cell_type": "code",
      "source": [
        "# From another tensor\n",
        "# retain the shape and dtype of x_data\n",
        "x_ones = torch.ones_like(x_data)\n",
        "print(x_ones)\n",
        "\n",
        "# you can explicitly override\n",
        "x_rand = torch.rand_like(x_data, dtype=torch.float)\n",
        "print(x_rand)"
      ],
      "metadata": {
        "colab": {
          "base_uri": "https://localhost:8080/"
        },
        "id": "aKqR9JoQ_bDx",
        "outputId": "4ab938e4-c40a-40c3-c79f-38cdb0b5bcdd"
      },
      "execution_count": 5,
      "outputs": [
        {
          "output_type": "stream",
          "name": "stdout",
          "text": [
            "tensor([[1, 1],\n",
            "        [1, 1]])\n",
            "tensor([[0.1979, 0.7566],\n",
            "        [0.9774, 0.6605]])\n"
          ]
        }
      ]
    },
    {
      "cell_type": "code",
      "source": [
        "# 특정 shape의 Tensor 생성\n",
        "shape = (2, 3, )\n",
        "rand_tensor = torch.rand(shape)\n",
        "ones_tensor = torch.ones(shape)\n",
        "zeros_tensor = torch.zeros(shape)\n",
        "\n",
        "print(rand_tensor)\n",
        "print(ones_tensor)\n",
        "print(zeros_tensor)"
      ],
      "metadata": {
        "colab": {
          "base_uri": "https://localhost:8080/"
        },
        "id": "st0xywJ8ATQx",
        "outputId": "6b3520ba-40f9-4acf-cfc0-2626aa228e5a"
      },
      "execution_count": 7,
      "outputs": [
        {
          "output_type": "stream",
          "name": "stdout",
          "text": [
            "tensor([[0.8126, 0.6269, 0.9878],\n",
            "        [0.2957, 0.6174, 0.2115]])\n",
            "tensor([[1., 1., 1.],\n",
            "        [1., 1., 1.]])\n",
            "tensor([[0., 0., 0.],\n",
            "        [0., 0., 0.]])\n"
          ]
        }
      ]
    },
    {
      "cell_type": "markdown",
      "source": [
        "##Attributes of a Tensor\n",
        "- shape\n",
        "- dtype\n",
        "- the device on which they are stored"
      ],
      "metadata": {
        "id": "L0SvnglyBD80"
      }
    },
    {
      "cell_type": "code",
      "source": [
        "tensor = torch.rand(3, 4)\n",
        "\n",
        "print(tensor.shape)\n",
        "print(tensor.dtype)\n",
        "print(tensor.device)"
      ],
      "metadata": {
        "colab": {
          "base_uri": "https://localhost:8080/"
        },
        "id": "u-_ZAgkmBFEH",
        "outputId": "b52049fd-76b1-43e9-d3b8-1093b34e340e"
      },
      "execution_count": 8,
      "outputs": [
        {
          "output_type": "stream",
          "name": "stdout",
          "text": [
            "torch.Size([3, 4])\n",
            "torch.float32\n",
            "cpu\n"
          ]
        }
      ]
    },
    {
      "cell_type": "markdown",
      "source": [
        "##Operation on Tensros\n",
        "- By default, tensors are created on the GPU.\n",
        "- We need to explicitly move tensors to the GPU using `.to` method."
      ],
      "metadata": {
        "id": "yVTtE0yHBkUg"
      }
    },
    {
      "cell_type": "code",
      "source": [
        "if torch.cuda.is_available():\n",
        "    tensor = tensor.to(\"cuda\")"
      ],
      "metadata": {
        "id": "HyDXciL2BRQB"
      },
      "execution_count": 11,
      "outputs": []
    },
    {
      "cell_type": "code",
      "source": [
        "# Standard numpy-like indexing and slicing\n",
        "tensor = torch.rand(4, 4)\n",
        "print(tensor)\n",
        "print(f\"First row: {tensor[0]}\")\n",
        "print(f\"First column: {tensor[:, 0]}\")\n",
        "print(f\"Last column: {tensor[..., -1]}\")\n",
        "tensor[:, 1] = 0\n",
        "print(tensor)"
      ],
      "metadata": {
        "colab": {
          "base_uri": "https://localhost:8080/"
        },
        "id": "gR-woFOMB2xe",
        "outputId": "e8117aa8-a2a5-4e6b-b9da-985a1f20cf78"
      },
      "execution_count": 19,
      "outputs": [
        {
          "output_type": "stream",
          "name": "stdout",
          "text": [
            "tensor([[0.0886, 0.7662, 0.6704, 0.6244],\n",
            "        [0.5379, 0.2503, 0.9020, 0.6673],\n",
            "        [0.8354, 0.0026, 0.0953, 0.9164],\n",
            "        [0.3636, 0.0740, 0.9465, 0.0758]])\n",
            "First row: tensor([0.0886, 0.7662, 0.6704, 0.6244])\n",
            "First column: tensor([0.0886, 0.5379, 0.8354, 0.3636])\n",
            "Last column: tensor([0.6244, 0.6673, 0.9164, 0.0758])\n",
            "tensor([[0.0886, 0.0000, 0.6704, 0.6244],\n",
            "        [0.5379, 0.0000, 0.9020, 0.6673],\n",
            "        [0.8354, 0.0000, 0.0953, 0.9164],\n",
            "        [0.3636, 0.0000, 0.9465, 0.0758]])\n"
          ]
        }
      ]
    },
    {
      "cell_type": "code",
      "source": [
        "# Joining tensors using torch.cat\n",
        "tensor = torch.ones(4, 4)\n",
        "tensor[:, 1] = 0\n",
        "t1 = torch.cat([tensor, tensor, tensor], dim=0)\n",
        "print(t1)"
      ],
      "metadata": {
        "colab": {
          "base_uri": "https://localhost:8080/"
        },
        "id": "YVJnm2qvCiKQ",
        "outputId": "74143aef-2b10-4788-a51b-afb156da1d8a"
      },
      "execution_count": 23,
      "outputs": [
        {
          "output_type": "stream",
          "name": "stdout",
          "text": [
            "tensor([[1., 0., 1., 1.],\n",
            "        [1., 0., 1., 1.],\n",
            "        [1., 0., 1., 1.],\n",
            "        [1., 0., 1., 1.],\n",
            "        [1., 0., 1., 1.],\n",
            "        [1., 0., 1., 1.],\n",
            "        [1., 0., 1., 1.],\n",
            "        [1., 0., 1., 1.],\n",
            "        [1., 0., 1., 1.],\n",
            "        [1., 0., 1., 1.],\n",
            "        [1., 0., 1., 1.],\n",
            "        [1., 0., 1., 1.]])\n"
          ]
        }
      ]
    },
    {
      "cell_type": "code",
      "source": [
        "# Arithmetic operations\n",
        "\n",
        "# This computes the matrix multiplicaiton between two tensors. y1 == y2 == y3\n",
        "y1 = tensor @ tensor.T\n",
        "y2 = tensor.matmul(tensor.T)\n",
        "\n",
        "y3 = torch.rand_like(tensor)\n",
        "torch.matmul(tensor, tensor.T, out=y3)\n",
        "\n",
        "# This computes the element-wise product. z1 == z2 == z3\n",
        "z1 = tensor * tensor\n",
        "z2 = tensor.mul(tensor)\n",
        "\n",
        "z3 = torch.rand_like(tensor)\n",
        "torch.mul(tensor, tensor.T, out=z3)"
      ],
      "metadata": {
        "colab": {
          "base_uri": "https://localhost:8080/"
        },
        "id": "cwWo8Q2jDFn8",
        "outputId": "f9eae243-00bf-4ffd-f3bd-9ff118d53807"
      },
      "execution_count": 25,
      "outputs": [
        {
          "output_type": "execute_result",
          "data": {
            "text/plain": [
              "tensor([[1., 0., 1., 1.],\n",
              "        [0., 0., 0., 0.],\n",
              "        [1., 0., 1., 1.],\n",
              "        [1., 0., 1., 1.]])"
            ]
          },
          "metadata": {},
          "execution_count": 25
        }
      ]
    },
    {
      "cell_type": "code",
      "source": [
        "# Signle-element tensors\n",
        "\n",
        "# Convert it to Python numerical value using item()\n",
        "agg = tensor.sum()\n",
        "agg_item = agg.item()\n",
        "print(agg_item, type(agg_item))"
      ],
      "metadata": {
        "colab": {
          "base_uri": "https://localhost:8080/"
        },
        "id": "yHipsGhiDy_t",
        "outputId": "1ef4bb33-fba2-4b02-c781-13748698f0dd"
      },
      "execution_count": 27,
      "outputs": [
        {
          "output_type": "stream",
          "name": "stdout",
          "text": [
            "12.0 <class 'float'>\n"
          ]
        }
      ]
    },
    {
      "cell_type": "code",
      "source": [
        "# In-place operations: operations that store the result into the operand\n",
        "\n",
        "print(tensor)\n",
        "tensor.add_(5)\n",
        "print(tensor)"
      ],
      "metadata": {
        "colab": {
          "base_uri": "https://localhost:8080/"
        },
        "id": "JRddeaWjEFTs",
        "outputId": "2fd03857-4000-4f90-b3c0-05e114374623"
      },
      "execution_count": 29,
      "outputs": [
        {
          "output_type": "stream",
          "name": "stdout",
          "text": [
            "tensor([[6., 5., 6., 6.],\n",
            "        [6., 5., 6., 6.],\n",
            "        [6., 5., 6., 6.],\n",
            "        [6., 5., 6., 6.]])\n",
            "tensor([[11., 10., 11., 11.],\n",
            "        [11., 10., 11., 11.],\n",
            "        [11., 10., 11., 11.],\n",
            "        [11., 10., 11., 11.]])\n"
          ]
        }
      ]
    },
    {
      "cell_type": "markdown",
      "source": [
        "##Bridge with Numpy\n",
        "- Tensors on the CPU and Numpy arrays can share their underlying memory locations\n",
        "- and changing one will change the other."
      ],
      "metadata": {
        "id": "8Rm_Dw0ZE185"
      }
    },
    {
      "cell_type": "code",
      "source": [
        "t = torch.ones(5)\n",
        "print(t)\n",
        "n = t.numpy()\n",
        "print(n)"
      ],
      "metadata": {
        "colab": {
          "base_uri": "https://localhost:8080/"
        },
        "id": "SLg8Nn3yEq7p",
        "outputId": "852e0d59-f9a6-49a9-8943-ad46bd492054"
      },
      "execution_count": 30,
      "outputs": [
        {
          "output_type": "stream",
          "name": "stdout",
          "text": [
            "tensor([1., 1., 1., 1., 1.])\n",
            "[1. 1. 1. 1. 1.]\n"
          ]
        }
      ]
    },
    {
      "cell_type": "code",
      "source": [
        "t.add_(1)\n",
        "print(t)\n",
        "print(n)"
      ],
      "metadata": {
        "colab": {
          "base_uri": "https://localhost:8080/"
        },
        "id": "soINkTPrFGnU",
        "outputId": "c7455255-3333-4620-f505-24f7d957775d"
      },
      "execution_count": 31,
      "outputs": [
        {
          "output_type": "stream",
          "name": "stdout",
          "text": [
            "tensor([2., 2., 2., 2., 2.])\n",
            "[2. 2. 2. 2. 2.]\n"
          ]
        }
      ]
    },
    {
      "cell_type": "markdown",
      "source": [
        "##Numpy array to Tensor"
      ],
      "metadata": {
        "id": "x2khbqL1FLzh"
      }
    },
    {
      "cell_type": "code",
      "source": [
        "n = np.ones(5)\n",
        "t = torch.from_numpy(n)"
      ],
      "metadata": {
        "id": "7Cj0jx9rFJS8"
      },
      "execution_count": 32,
      "outputs": []
    },
    {
      "cell_type": "code",
      "source": [
        "np.add(n, 1, out=n)\n",
        "print(t)\n",
        "print(n)"
      ],
      "metadata": {
        "colab": {
          "base_uri": "https://localhost:8080/"
        },
        "id": "4zBjMjVxFRQP",
        "outputId": "ed41d9c7-91dd-4b28-9d35-b61d53843202"
      },
      "execution_count": 33,
      "outputs": [
        {
          "output_type": "stream",
          "name": "stdout",
          "text": [
            "tensor([2., 2., 2., 2., 2.], dtype=torch.float64)\n",
            "[2. 2. 2. 2. 2.]\n"
          ]
        }
      ]
    }
  ]
}
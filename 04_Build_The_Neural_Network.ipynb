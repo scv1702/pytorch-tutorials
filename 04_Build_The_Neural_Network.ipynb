{
  "nbformat": 4,
  "nbformat_minor": 0,
  "metadata": {
    "colab": {
      "name": "04_Build_The_Neural_Network.ipynb",
      "provenance": []
    },
    "kernelspec": {
      "name": "python3",
      "display_name": "Python 3"
    },
    "language_info": {
      "name": "python"
    },
    "accelerator": "GPU"
  },
  "cells": [
    {
      "cell_type": "markdown",
      "source": [
        "#Build The Neural Network"
      ],
      "metadata": {
        "id": "g9UkxX2RURoa"
      }
    },
    {
      "cell_type": "code",
      "source": [
        "import os\n",
        "import torch\n",
        "from torch import nn\n",
        "from torch.utils.data import DataLoader\n",
        "from torchvision import datasets, transforms"
      ],
      "metadata": {
        "id": "aDy5Ku1HU3Km"
      },
      "execution_count": 2,
      "outputs": []
    },
    {
      "cell_type": "markdown",
      "source": [
        "##Get Device for Training"
      ],
      "metadata": {
        "id": "gb_MPc1uVC5r"
      }
    },
    {
      "cell_type": "code",
      "source": [
        "device = \"cuda\" if torch.cuda.is_available() else \"cpu\"\n",
        "print(f\"Using {device} device\")"
      ],
      "metadata": {
        "colab": {
          "base_uri": "https://localhost:8080/"
        },
        "id": "R-Kmyew9U_dG",
        "outputId": "fceeddd1-c6d4-4d87-cad3-4c70b9e301ed"
      },
      "execution_count": 3,
      "outputs": [
        {
          "output_type": "stream",
          "name": "stdout",
          "text": [
            "Using cuda device\n"
          ]
        }
      ]
    },
    {
      "cell_type": "markdown",
      "source": [
        "##Define the Class\n",
        "- We define our neural network by subclassing `nn.Module`\n",
        "- and initialize the neural network layers in `__init__`\n",
        "- Every `nn.Module` subclass implements the operations on input data in the `forward` method."
      ],
      "metadata": {
        "id": "WHi4u8C0Vf5R"
      }
    },
    {
      "cell_type": "code",
      "source": [
        "class NeuralNetwork(nn.Module):\n",
        "    def __init__(self):\n",
        "        super(NeuralNetwork, self).__init__()\n",
        "        self.flatten = nn.Flatten()\n",
        "        self.linear_relu_stack = nn.Sequential(\n",
        "            nn.Linear(28 * 28, 512),\n",
        "            nn.ReLU(),\n",
        "            nn.Linear(512, 512),\n",
        "            nn.ReLU(),\n",
        "            nn.Linear(512, 10)\n",
        "        )\n",
        "    \n",
        "    def forward(self, x):\n",
        "        x = self.flatten(x)\n",
        "        logits = self.linear_relu_stack(x)\n",
        "        return logits"
      ],
      "metadata": {
        "id": "7kToHOYeVT0f"
      },
      "execution_count": 5,
      "outputs": []
    },
    {
      "cell_type": "code",
      "source": [
        "model = NeuralNetwork().to(device)\n",
        "print(model)"
      ],
      "metadata": {
        "colab": {
          "base_uri": "https://localhost:8080/"
        },
        "id": "XwqHo_rYVZZA",
        "outputId": "b3b48f60-b1f9-4096-e590-e8186552744c"
      },
      "execution_count": 6,
      "outputs": [
        {
          "output_type": "stream",
          "name": "stdout",
          "text": [
            "NeuralNetwork(\n",
            "  (flatten): Flatten(start_dim=1, end_dim=-1)\n",
            "  (linear_relu_stack): Sequential(\n",
            "    (0): Linear(in_features=784, out_features=512, bias=True)\n",
            "    (1): ReLU()\n",
            "    (2): Linear(in_features=512, out_features=512, bias=True)\n",
            "    (3): ReLU()\n",
            "    (4): Linear(in_features=512, out_features=10, bias=True)\n",
            "  )\n",
            ")\n"
          ]
        }
      ]
    },
    {
      "cell_type": "code",
      "source": [
        "X = torch.rand(1, 28, 28, device=device)\n",
        "logits = model(X)\n",
        "print(logits)\n",
        "pred_probab = nn.Softmax(dim=1)(logits)\n",
        "print(pred_probab)\n",
        "y_pred = pred_probab.argmax(1)\n",
        "print(f\"Predicted class: {y_pred}\")"
      ],
      "metadata": {
        "colab": {
          "base_uri": "https://localhost:8080/"
        },
        "id": "DIJ-VJKYX2e3",
        "outputId": "90a2a2f3-582a-479e-fade-06a34cc37926"
      },
      "execution_count": 9,
      "outputs": [
        {
          "output_type": "stream",
          "name": "stdout",
          "text": [
            "tensor([[ 0.0142,  0.0546, -0.0317,  0.0688, -0.0032, -0.0743,  0.0005, -0.0382,\n",
            "          0.0077,  0.0009]], device='cuda:0', grad_fn=<AddmmBackward0>)\n",
            "tensor([[0.1014, 0.1055, 0.0968, 0.1070, 0.0996, 0.0928, 0.1000, 0.0962, 0.1007,\n",
            "         0.1000]], device='cuda:0', grad_fn=<SoftmaxBackward0>)\n",
            "Predicted class: tensor([3], device='cuda:0')\n"
          ]
        }
      ]
    },
    {
      "cell_type": "markdown",
      "source": [
        "##Model Layers"
      ],
      "metadata": {
        "id": "clFfmZKRZU4o"
      }
    },
    {
      "cell_type": "code",
      "source": [
        "input_image = torch.rand(3, 28, 28)\n",
        "print(input_image.size())"
      ],
      "metadata": {
        "colab": {
          "base_uri": "https://localhost:8080/"
        },
        "id": "Of5r5F1EZDGe",
        "outputId": "767de392-f325-419b-b34c-87d7c0781798"
      },
      "execution_count": 10,
      "outputs": [
        {
          "output_type": "stream",
          "name": "stdout",
          "text": [
            "torch.Size([3, 28, 28])\n"
          ]
        }
      ]
    },
    {
      "cell_type": "markdown",
      "source": [
        "###nn.Flatten\n",
        "- convert each 2D 28x28 image into a 1D array of 784 pixel values (the minibatch dimension is maintained)."
      ],
      "metadata": {
        "id": "T-aEjN8uZkIC"
      }
    },
    {
      "cell_type": "code",
      "source": [
        "flatten = nn.Flatten()\n",
        "flat_image = flatten(input_image)\n",
        "print(flat_image.size())"
      ],
      "metadata": {
        "colab": {
          "base_uri": "https://localhost:8080/"
        },
        "id": "rs9k8WgVZiGc",
        "outputId": "9009c973-c4c2-441a-e599-9f1724a747bf"
      },
      "execution_count": 11,
      "outputs": [
        {
          "output_type": "stream",
          "name": "stdout",
          "text": [
            "torch.Size([3, 784])\n"
          ]
        }
      ]
    },
    {
      "cell_type": "markdown",
      "source": [
        "###nn. Linear\n",
        "- applies a linear transformation on the input using its stored weights and biases."
      ],
      "metadata": {
        "id": "lQfEjjXnakzg"
      }
    },
    {
      "cell_type": "code",
      "source": [
        "layer1 = nn.Linear(in_features=28*28, out_features=20)\n",
        "hidden1 = layer1(flat_image)\n",
        "print(hidden1.size())"
      ],
      "metadata": {
        "colab": {
          "base_uri": "https://localhost:8080/"
        },
        "id": "2cBfD1UYZzqh",
        "outputId": "6978c72f-943c-43aa-e403-9cee2d131446"
      },
      "execution_count": 13,
      "outputs": [
        {
          "output_type": "stream",
          "name": "stdout",
          "text": [
            "torch.Size([3, 20])\n"
          ]
        }
      ]
    },
    {
      "cell_type": "markdown",
      "source": [
        "###nn.ReLU\n",
        "- introduces nonlinerity at the model helping neural networks learn a wide variety of phenomena."
      ],
      "metadata": {
        "id": "jrjt_vx2cRqS"
      }
    },
    {
      "cell_type": "code",
      "source": [
        "print(f\"Before ReLU: {hidden1}\\n\\n\")\n",
        "hidden1 = nn.ReLU()(hidden1)\n",
        "print(f\"After ReLu: {hidden1}\")"
      ],
      "metadata": {
        "colab": {
          "base_uri": "https://localhost:8080/"
        },
        "id": "Jcw55DfQcPih",
        "outputId": "0604c311-1545-4dc5-8688-eadc61e38736"
      },
      "execution_count": 14,
      "outputs": [
        {
          "output_type": "stream",
          "name": "stdout",
          "text": [
            "Before ReLU: tensor([[-0.0562,  0.4282,  0.3564,  0.3420, -0.6055,  0.0562, -0.0653,  0.0328,\n",
            "         -0.2504, -0.1781,  0.0097,  0.4056, -0.2581,  0.1167, -0.2946,  0.2363,\n",
            "          0.3781,  0.1934, -0.3982, -0.3814],\n",
            "        [ 0.0128,  0.7109,  0.1790,  0.1363, -0.5430,  0.0968,  0.1184, -0.1819,\n",
            "         -0.0378,  0.2445,  0.2409,  0.5428, -0.2593,  0.3276, -0.5360,  0.1658,\n",
            "          0.3361,  0.1537, -0.4363, -0.0772],\n",
            "        [ 0.1081,  0.3468,  0.3230,  0.2280, -0.3879,  0.0238, -0.2447,  0.1580,\n",
            "         -0.4345, -0.1467,  0.1188,  0.5381, -0.3494,  0.3559, -0.0332,  0.0804,\n",
            "          0.3833,  0.1036, -0.0262, -0.0773]], grad_fn=<AddmmBackward0>)\n",
            "\n",
            "\n",
            "After ReLu: tensor([[0.0000, 0.4282, 0.3564, 0.3420, 0.0000, 0.0562, 0.0000, 0.0328, 0.0000,\n",
            "         0.0000, 0.0097, 0.4056, 0.0000, 0.1167, 0.0000, 0.2363, 0.3781, 0.1934,\n",
            "         0.0000, 0.0000],\n",
            "        [0.0128, 0.7109, 0.1790, 0.1363, 0.0000, 0.0968, 0.1184, 0.0000, 0.0000,\n",
            "         0.2445, 0.2409, 0.5428, 0.0000, 0.3276, 0.0000, 0.1658, 0.3361, 0.1537,\n",
            "         0.0000, 0.0000],\n",
            "        [0.1081, 0.3468, 0.3230, 0.2280, 0.0000, 0.0238, 0.0000, 0.1580, 0.0000,\n",
            "         0.0000, 0.1188, 0.5381, 0.0000, 0.3559, 0.0000, 0.0804, 0.3833, 0.1036,\n",
            "         0.0000, 0.0000]], grad_fn=<ReluBackward0>)\n"
          ]
        }
      ]
    },
    {
      "cell_type": "markdown",
      "source": [
        "###nn.Sequential \n",
        "- an ordered container of modules.\n"
      ],
      "metadata": {
        "id": "0UsKQnhFdNkR"
      }
    },
    {
      "cell_type": "code",
      "source": [
        "seq_modules = nn.Sequential(\n",
        "    flatten,\n",
        "    layer1,\n",
        "    nn.ReLU(),\n",
        "    nn.Linear(20, 10)\n",
        ")\n",
        "input_image = torch.rand(3, 28, 28)\n",
        "logits = seq_modules(input_image)"
      ],
      "metadata": {
        "id": "sK1mFK53dNEh"
      },
      "execution_count": 16,
      "outputs": []
    },
    {
      "cell_type": "markdown",
      "source": [
        "###nn.Softmax\n",
        "- scales to values [0, 1] representing the model's predicted probabilities for each class.\n",
        "- `dim`: the dimension along which the values must some to 1"
      ],
      "metadata": {
        "id": "UxgvV0GjcxAG"
      }
    },
    {
      "cell_type": "code",
      "source": [
        "softmax = nn.Softmax(dim=1)\n",
        "pred_proab = softmax(logits)\n",
        "print(pred_proab)"
      ],
      "metadata": {
        "colab": {
          "base_uri": "https://localhost:8080/"
        },
        "id": "7TpAJsHOcti0",
        "outputId": "dd5929a0-16a7-40fc-b8ca-13d7938c0985"
      },
      "execution_count": 19,
      "outputs": [
        {
          "output_type": "stream",
          "name": "stdout",
          "text": [
            "tensor([[0.0915, 0.1025, 0.0833, 0.1023, 0.0675, 0.0855, 0.1082, 0.1309, 0.1218,\n",
            "         0.1065],\n",
            "        [0.0999, 0.0998, 0.0842, 0.0952, 0.0859, 0.0878, 0.1154, 0.1179, 0.1157,\n",
            "         0.0983],\n",
            "        [0.0915, 0.1006, 0.0813, 0.0931, 0.0763, 0.0765, 0.1136, 0.1284, 0.1277,\n",
            "         0.1109]], grad_fn=<SoftmaxBackward0>)\n"
          ]
        }
      ]
    },
    {
      "cell_type": "markdown",
      "source": [
        "##Model Parameters\n",
        "- Subclass of `nn.Module` can automatically track all fields defined inside your model object, and make all parameters accessible using your model's `parameters()` or `named_parameters()` methods."
      ],
      "metadata": {
        "id": "EL_anWtSdsQb"
      }
    },
    {
      "cell_type": "code",
      "source": [
        "print(f\"Model structure: {model}\\n\\n\")\n",
        "\n",
        "for name, param in model.named_parameters():\n",
        "    print(f\"Layer: {name} | Size: {param.size()} | Values: {param[:2]}\\n\")"
      ],
      "metadata": {
        "colab": {
          "base_uri": "https://localhost:8080/"
        },
        "id": "IlffzOYydJ4y",
        "outputId": "e80f742b-e269-4352-d1a6-122fe422669b"
      },
      "execution_count": 20,
      "outputs": [
        {
          "output_type": "stream",
          "name": "stdout",
          "text": [
            "Model structure: NeuralNetwork(\n",
            "  (flatten): Flatten(start_dim=1, end_dim=-1)\n",
            "  (linear_relu_stack): Sequential(\n",
            "    (0): Linear(in_features=784, out_features=512, bias=True)\n",
            "    (1): ReLU()\n",
            "    (2): Linear(in_features=512, out_features=512, bias=True)\n",
            "    (3): ReLU()\n",
            "    (4): Linear(in_features=512, out_features=10, bias=True)\n",
            "  )\n",
            ")\n",
            "\n",
            "\n",
            "Layer: linear_relu_stack.0.weight | Size: torch.Size([512, 784]) | Values: tensor([[-0.0239, -0.0185,  0.0179,  ..., -0.0282, -0.0224,  0.0094],\n",
            "        [ 0.0239,  0.0270,  0.0182,  ...,  0.0078,  0.0103, -0.0027]],\n",
            "       device='cuda:0', grad_fn=<SliceBackward0>)\n",
            "\n",
            "Layer: linear_relu_stack.0.bias | Size: torch.Size([512]) | Values: tensor([-0.0346,  0.0098], device='cuda:0', grad_fn=<SliceBackward0>)\n",
            "\n",
            "Layer: linear_relu_stack.2.weight | Size: torch.Size([512, 512]) | Values: tensor([[-0.0031, -0.0244,  0.0162,  ...,  0.0060,  0.0180, -0.0043],\n",
            "        [-0.0029, -0.0195,  0.0004,  ..., -0.0396, -0.0377, -0.0190]],\n",
            "       device='cuda:0', grad_fn=<SliceBackward0>)\n",
            "\n",
            "Layer: linear_relu_stack.2.bias | Size: torch.Size([512]) | Values: tensor([-0.0224, -0.0097], device='cuda:0', grad_fn=<SliceBackward0>)\n",
            "\n",
            "Layer: linear_relu_stack.4.weight | Size: torch.Size([10, 512]) | Values: tensor([[ 0.0396, -0.0253,  0.0279,  ..., -0.0007, -0.0171, -0.0304],\n",
            "        [-0.0007, -0.0023, -0.0414,  ..., -0.0150, -0.0203, -0.0321]],\n",
            "       device='cuda:0', grad_fn=<SliceBackward0>)\n",
            "\n",
            "Layer: linear_relu_stack.4.bias | Size: torch.Size([10]) | Values: tensor([0.0376, 0.0421], device='cuda:0', grad_fn=<SliceBackward0>)\n",
            "\n"
          ]
        }
      ]
    }
  ]
}